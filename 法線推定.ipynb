{
 "cells": [
  {
   "cell_type": "code",
   "execution_count": 14,
   "id": "3779a7d9",
   "metadata": {},
   "outputs": [],
   "source": [
    "import open3d as o3d\n",
    "import numpy as np\n",
    "import matplotlib.pyplot as plt\n",
    "from mpl_toolkits import mplot3d"
   ]
  },
  {
   "cell_type": "code",
   "execution_count": 2,
   "id": "6e3a31ce",
   "metadata": {},
   "outputs": [],
   "source": [
    "pointcloud = o3d.io.read_point_cloud(\"./bunny.pcd\")\n",
    "if pointcloud.is_empty():\n",
    "    exit()"
   ]
  },
  {
   "cell_type": "code",
   "execution_count": 11,
   "id": "3bea7a2d",
   "metadata": {},
   "outputs": [],
   "source": [
    "pointcloud.estimate_normals(search_param=o3d.geometry.KDTreeSearchParamHybrid(radius=0.1, max_nn=30))"
   ]
  },
  {
   "cell_type": "code",
   "execution_count": 12,
   "id": "7d49b697",
   "metadata": {},
   "outputs": [],
   "source": [
    "points = np.asarray(pointcloud.points)"
   ]
  },
  {
   "cell_type": "code",
   "execution_count": 15,
   "id": "b42664d0",
   "metadata": {},
   "outputs": [
    {
     "data": {
      "image/png": "[encoded data removed]",
      "text/plain": [
       "<Figure size 432x288 with 1 Axes>"
      ]
     },
     "metadata": {
      "needs_background": "light"
     },
     "output_type": "display_data"
    }
   ],
   "source": [
    "data1 = plt.axes(projection='3d')\n",
    "data1.view_init(90, -90)\n",
    "data1.axis(\"off\")\n",
    "# data1.scatter(points[:, 0], points[:, 1], points[:, 2], s=1, c=colors)\n",
    "data1.scatter(points[:, 0], points[:, 1], points[:, 2], s=1)\n",
    "plt.show()"
   ]
  },
  {
   "cell_type": "code",
   "execution_count": 16,
   "id": "0bcc1530",
   "metadata": {},
   "outputs": [
    {
     "name": "stdout",
     "output_type": "stream",
     "text": [
      "True\n"
     ]
    }
   ],
   "source": [
    "print(pointcloud.has_normals())"
   ]
  },
  {
   "cell_type": "code",
   "execution_count": 19,
   "id": "d2cd9a4e",
   "metadata": {},
   "outputs": [
    {
     "ename": "AttributeError",
     "evalue": "module 'open3d.cpu.pybind.geometry' has no attribute 'orient_normals_towards_camera_location'",
     "output_type": "error",
     "traceback": [
      "\u001b[0;31m---------------------------------------------------------------------------\u001b[0m",
      "\u001b[0;31mAttributeError\u001b[0m                            Traceback (most recent call last)",
      "\u001b[0;32m<ipython-input-19-0f441f5ad639>\u001b[0m in \u001b[0;36m<module>\u001b[0;34m\u001b[0m\n\u001b[0;32m----> 1\u001b[0;31m o3d.geometry.orient_normals_towards_camera_location(\n\u001b[0m\u001b[1;32m      2\u001b[0m     \u001b[0mpointcloud\u001b[0m\u001b[0;34m,\u001b[0m\u001b[0;34m\u001b[0m\u001b[0;34m\u001b[0m\u001b[0m\n\u001b[1;32m      3\u001b[0m     camera_location = np.array([0., 10., 10.], dtype=\"float64\"))\n",
      "\u001b[0;31mAttributeError\u001b[0m: module 'open3d.cpu.pybind.geometry' has no attribute 'orient_normals_towards_camera_location'"
     ]
    }
   ],
   "source": [
    "o3d.geometry.orient_normals_towards_camera_location(\n",
    "    pointcloud,\n",
    "    camera_location = np.array([0., 10., 10.], dtype=\"float64\"))"
   ]
  },
  {
   "cell_type": "code",
   "execution_count": null,
   "id": "1e2fe35b",
   "metadata": {},
   "outputs": [],
   "source": []
  }
 ],
 "metadata": {
  "kernelspec": {
   "display_name": "Python 3",
   "language": "python",
   "name": "python3"
  },
  "language_info": {
   "codemirror_mode": {
    "name": "ipython",
    "version": 3
   },
   "file_extension": ".py",
   "mimetype": "text/x-python",
   "name": "python",
   "nbconvert_exporter": "python",
   "pygments_lexer": "ipython3",
   "version": "3.7.10"
  }
 },
 "nbformat": 4,
 "nbformat_minor": 5
}
