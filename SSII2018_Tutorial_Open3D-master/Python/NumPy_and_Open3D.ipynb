{
 "cells": [
  {
   "cell_type": "markdown",
   "metadata": {},
   "source": [
    "## Open3D点群とNumPy行列の相互変換"
   ]
  },
  {
   "cell_type": "code",
   "execution_count": 1,
   "metadata": {
    "collapsed": true
   },
   "outputs": [],
   "source": [
    "import numpy as np\n",
    "from open3d import *"
   ]
  },
  {
   "cell_type": "markdown",
   "metadata": {},
   "source": [
    "### 10x3のNumPy行列の生成（値はランダム）"
   ]
  },
  {
   "cell_type": "code",
   "execution_count": 6,
   "metadata": {
    "collapsed": true
   },
   "outputs": [],
   "source": [
    "data = np.random.rand(10,3)"
   ]
  },
  {
   "cell_type": "code",
   "execution_count": 18,
   "metadata": {},
   "outputs": [
    {
     "name": "stdout",
     "output_type": "stream",
     "text": [
      "[[ 0.09249111  0.57397975  0.55690015]\n",
      " [ 0.50281529  0.09562299  0.24029229]\n",
      " [ 0.28317499  0.75393479  0.72160014]\n",
      " [ 0.96927297  0.08838792  0.1848289 ]\n",
      " [ 0.60801702  0.95011524  0.9681312 ]\n",
      " [ 0.40435173  0.11033132  0.93538947]\n",
      " [ 0.08502744  0.85777887  0.36894673]\n",
      " [ 0.9156053   0.40921759  0.69935851]\n",
      " [ 0.47280768  0.43104577  0.90596331]\n",
      " [ 0.99682753  0.67177541  0.26291334]]\n"
     ]
    }
   ],
   "source": [
    "print(data)"
   ]
  },
  {
   "cell_type": "markdown",
   "metadata": {},
   "source": [
    "### NumPy行列をOpen3D点群に変換"
   ]
  },
  {
   "cell_type": "code",
   "execution_count": 10,
   "metadata": {
    "collapsed": true
   },
   "outputs": [],
   "source": [
    "pcd = PointCloud()\n",
    "pcd.points = Vector3dVector(data)"
   ]
  },
  {
   "cell_type": "markdown",
   "metadata": {},
   "source": [
    "### 点群に色を設定する（値の範囲は[0,1]）"
   ]
  },
  {
   "cell_type": "code",
   "execution_count": 13,
   "metadata": {
    "collapsed": true
   },
   "outputs": [],
   "source": [
    "pcd.paint_uniform_color([1, 0.706, 0])"
   ]
  },
  {
   "cell_type": "markdown",
   "metadata": {},
   "source": [
    "### 点群の概要の表示（1行目）と実際のデータの表示（2,3行目）"
   ]
  },
  {
   "cell_type": "code",
   "execution_count": 14,
   "metadata": {},
   "outputs": [
    {
     "name": "stdout",
     "output_type": "stream",
     "text": [
      "PointCloud with 10 points.\n",
      "[[ 0.09249111  0.57397975  0.55690015]\n",
      " [ 0.50281529  0.09562299  0.24029229]\n",
      " [ 0.28317499  0.75393479  0.72160014]\n",
      " [ 0.96927297  0.08838792  0.1848289 ]\n",
      " [ 0.60801702  0.95011524  0.9681312 ]\n",
      " [ 0.40435173  0.11033132  0.93538947]\n",
      " [ 0.08502744  0.85777887  0.36894673]\n",
      " [ 0.9156053   0.40921759  0.69935851]\n",
      " [ 0.47280768  0.43104577  0.90596331]\n",
      " [ 0.99682753  0.67177541  0.26291334]]\n",
      "[[ 1.     0.706  0.   ]\n",
      " [ 1.     0.706  0.   ]\n",
      " [ 1.     0.706  0.   ]\n",
      " [ 1.     0.706  0.   ]\n",
      " [ 1.     0.706  0.   ]\n",
      " [ 1.     0.706  0.   ]\n",
      " [ 1.     0.706  0.   ]\n",
      " [ 1.     0.706  0.   ]\n",
      " [ 1.     0.706  0.   ]\n",
      " [ 1.     0.706  0.   ]]\n"
     ]
    }
   ],
   "source": [
    "print(pcd)\n",
    "print(np.asarray(pcd.points))\n",
    "print(np.asarray(pcd.colors))"
   ]
  },
  {
   "cell_type": "markdown",
   "metadata": {},
   "source": [
    "### Open3D点群をNumPy行列に変換"
   ]
  },
  {
   "cell_type": "code",
   "execution_count": 15,
   "metadata": {
    "collapsed": true
   },
   "outputs": [],
   "source": [
    "xyz = np.asarray(pcd.points)\n",
    "color = np.asarray(pcd.colors)"
   ]
  },
  {
   "cell_type": "code",
   "execution_count": 16,
   "metadata": {},
   "outputs": [
    {
     "name": "stdout",
     "output_type": "stream",
     "text": [
      "[[ 0.09249111  0.57397975  0.55690015]\n",
      " [ 0.50281529  0.09562299  0.24029229]\n",
      " [ 0.28317499  0.75393479  0.72160014]\n",
      " [ 0.96927297  0.08838792  0.1848289 ]\n",
      " [ 0.60801702  0.95011524  0.9681312 ]\n",
      " [ 0.40435173  0.11033132  0.93538947]\n",
      " [ 0.08502744  0.85777887  0.36894673]\n",
      " [ 0.9156053   0.40921759  0.69935851]\n",
      " [ 0.47280768  0.43104577  0.90596331]\n",
      " [ 0.99682753  0.67177541  0.26291334]]\n",
      "[[ 1.     0.706  0.   ]\n",
      " [ 1.     0.706  0.   ]\n",
      " [ 1.     0.706  0.   ]\n",
      " [ 1.     0.706  0.   ]\n",
      " [ 1.     0.706  0.   ]\n",
      " [ 1.     0.706  0.   ]\n",
      " [ 1.     0.706  0.   ]\n",
      " [ 1.     0.706  0.   ]\n",
      " [ 1.     0.706  0.   ]\n",
      " [ 1.     0.706  0.   ]]\n"
     ]
    }
   ],
   "source": [
    "print(xyz)\n",
    "print(color)"
   ]
  },
  {
   "cell_type": "markdown",
   "metadata": {},
   "source": [
    "### 点群のレンダリング"
   ]
  },
  {
   "cell_type": "code",
   "execution_count": 17,
   "metadata": {
    "collapsed": true
   },
   "outputs": [],
   "source": [
    "draw_geometries([pcd])"
   ]
  }
 ],
 "metadata": {
  "kernelspec": {
   "display_name": "Python 3",
   "language": "python",
   "name": "python3"
  },
  "language_info": {
   "codemirror_mode": {
    "name": "ipython",
    "version": 3
   },
   "file_extension": ".py",
   "mimetype": "text/x-python",
   "name": "python",
   "nbconvert_exporter": "python",
   "pygments_lexer": "ipython3",
   "version": "3.6.2"
  }
 },
 "nbformat": 4,
 "nbformat_minor": 2
}
